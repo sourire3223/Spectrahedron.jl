{
 "cells": [
  {
   "cell_type": "code",
   "execution_count": 1,
   "id": "c04fa84e",
   "metadata": {},
   "outputs": [
    {
     "data": {
      "text/plain": [
       "loss_and_gradient (generic function with 1 method)"
      ]
     },
     "metadata": {},
     "output_type": "display_data"
    }
   ],
   "source": [
    "include(\"./src/batch_algorithms.jl\")\n",
    "include(\"./src/mlqst.jl\")"
   ]
  },
  {
   "cell_type": "code",
   "execution_count": 2,
   "id": "9181c1e1",
   "metadata": {},
   "outputs": [],
   "source": [
    "using Random\n",
    "Random.seed!(1234) \n",
    "\n",
    "q::Int64 = 6\n",
    "M::Int64 = 4^q\n",
    "N::Int64 = 10 * 4 ^ q\n",
    "# ρ_true = get_w_state(q) # true density matrix\n",
    "ρ_true = get_random_state(q) # true density matrix\n",
    "POVM = get_pauli_povms_positive(q)\n",
    "idx_obs = rand(1:M, N)\n",
    "outcomes = measure(ρ_true, POVM, idx_obs)\n",
    "data = generate_data(POVM, idx_obs, outcomes)\n",
    ";"
   ]
  },
  {
   "cell_type": "code",
   "execution_count": 3,
   "id": "122082f6",
   "metadata": {},
   "outputs": [
    {
     "data": {
      "text/plain": [
       "#34 (generic function with 1 method)"
      ]
     },
     "metadata": {},
     "output_type": "display_data"
    }
   ],
   "source": [
    "loss_func_ = (ρ::Hermitian{<:Complex}) -> loss_func(ρ, data)\n",
    "gradient_ = (ρ::Hermitian{<:Complex}) -> gradient(ρ, data)\n",
    "loss_and_gradient_ = (ρ::Hermitian{<:Complex}) -> loss_and_gradient(ρ, data)"
   ]
  },
  {
   "cell_type": "code",
   "execution_count": null,
   "id": "4bfadb96",
   "metadata": {},
   "outputs": [
    {
     "name": "stdout",
     "output_type": "stream",
     "text": [
      "PGD starts.\n"
     ]
    }
   ],
   "source": [
    "d = 2^q\n",
    "n_epoch = 300\n",
    "ρ_init = Hermitian(Matrix{ComplexF64}(I, d, d) / d)\n",
    "_, result_pgd = PGD(ρ_init, n_epoch, loss_func_, gradient_, loss_and_gradient_)\n",
    "_, result_emd = EMD(ρ_init, n_epoch, loss_func_, gradient_, loss_and_gradient_)\n",
    "_, result_fw = FW(ρ_init, n_epoch, loss_func_, gradient_, loss_and_gradient_)\n",
    "_, result_bwrgd = BWRGD(ρ_init, n_epoch, loss_func_, gradient_, loss_and_gradient_)\n",
    "\n",
    "min_loss = minimum([minimum(result_bwrgd[\"fval\"])])\n",
    "@printf(\"Minimum loss: %.4e\\n\", min_loss)"
   ]
  },
  {
   "cell_type": "code",
   "execution_count": null,
   "id": "4395b245",
   "metadata": {},
   "outputs": [],
   "source": [
    "using PyPlot\n",
    "clf()\n",
    "semilogy(result_pgd[\"elapsed_time\"], result_pgd[\"fval\"] .- min_loss, label = \"PGD\")\n",
    "semilogy(result_emd[\"elapsed_time\"], result_emd[\"fval\"] .- min_loss, label = \"EMD\")\n",
    "semilogy(result_fw[\"elapsed_time\"], result_fw[\"fval\"] .- min_loss, label = \"FW\")\n",
    "semilogy(result_bwrgd[\"epoch\"], result_bwrgd[\"fval\"] .- min_loss, label = \"BW-RGD\")\n",
    "\n",
    "display(gcf())"
   ]
  }
 ],
 "metadata": {
  "kernelspec": {
   "display_name": "Julia 1.11.6",
   "language": "julia",
   "name": "julia-1.11"
  },
  "language_info": {
   "file_extension": ".jl",
   "mimetype": "application/julia",
   "name": "julia",
   "version": "1.11.6"
  }
 },
 "nbformat": 4,
 "nbformat_minor": 5
}
